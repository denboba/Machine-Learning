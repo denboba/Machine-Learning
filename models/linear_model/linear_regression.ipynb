{
 "cells": [
  {
   "metadata": {},
   "cell_type": "markdown",
   "source": [
    "# Linear Regression: The Mother of Machine Learning Algorithms\n",
    "\n",
    "A **function** is a type of relation in which an input always has a fixed output.\n",
    "Mathematically, if we have x1 and x2, then:\n",
    "\n",
    "f(x1) = f(x2)  if x1 = x2\n",
    "\n",
    "One common type of function we often use is the **linear function**, which has the form:\n",
    "\n",
    "f(x) = m * x + b\n",
    "\n",
    "With this function, many things become easier. Whenever we have an input x, we can calculate the output.\n",
    "\n",
    "**Example:**\n",
    "\n",
    "f(x) = 3 * x + 5\n",
    "\n",
    "If x = 2, then:\n",
    "\n",
    "f(2) = 3 * 2 + 5 = 11\n",
    "\n",
    "Now, here’s an interesting question:\n",
    "If we give a machine a bunch of input-output pairs, will the machine be able to predict the values of m and b such that it can represent the linear function?\n",
    "This is exactly what **Linear Regression** does!\n"
   ],
   "id": "314c24af65a7b7fd"
  },
  {
   "metadata": {
    "ExecuteTime": {
     "end_time": "2025-10-28T13:15:58.486819Z",
     "start_time": "2025-10-28T13:15:58.459619Z"
    }
   },
   "cell_type": "code",
   "source": [
    "# lets generate input and out put for the above function f(x) = 3x+5\n",
    "input_set = [[i] for i  in range(10)] # here is a  we are using for input\n",
    "output_set = [3*x+5 for x in range(10)] # here is output of the input 3*input +5\n",
    "print(input_set)\n",
    "print(output_set)\n"
   ],
   "id": "f2ae080dd271c5ef",
   "outputs": [
    {
     "name": "stdout",
     "output_type": "stream",
     "text": [
      "[[0], [1], [2], [3], [4], [5], [6], [7], [8], [9]]\n",
      "[5, 8, 11, 14, 17, 20, 23, 26, 29, 32]\n"
     ]
    }
   ],
   "execution_count": 13
  },
  {
   "metadata": {},
   "cell_type": "markdown",
   "source": "#  training the model",
   "id": "a30d9c5819b1f0c2"
  },
  {
   "metadata": {
    "ExecuteTime": {
     "end_time": "2025-10-28T13:24:19.293387Z",
     "start_time": "2025-10-28T13:24:19.247332Z"
    }
   },
   "cell_type": "code",
   "source": [
    "from sklearn import linear_model\n",
    "\n",
    "model = linear_model.LinearRegression()\n",
    "model.fit(input_set,output_set) # this make the model learn from input and out put\n",
    "\n",
    "print(f\"the equation of the line is f(x) = {model.coef_[0]}x+{model.intercept_}\")\n"
   ],
   "id": "f06062c8976959bc",
   "outputs": [
    {
     "name": "stdout",
     "output_type": "stream",
     "text": [
      "the equation of the line is f(x) = 3.000000000000001x+4.9999999999999964\n"
     ]
    }
   ],
   "execution_count": 17
  },
  {
   "metadata": {},
   "cell_type": "markdown",
   "source": [
    "# The model almost computed the equation as folows\n",
    "the equation of the line is f(x) = 3.000000000000001x+4.9999999999999964"
   ],
   "id": "50a5d83dd328fd66"
  },
  {
   "metadata": {},
   "cell_type": "markdown",
   "source": "The model is able to learn from the data and predict the function, but not all relationships are perfect, and sometimes we provide it with complex data.",
   "id": "3659d718c7c8f49b"
  },
  {
   "metadata": {},
   "cell_type": "markdown",
   "source": "# house price prediction",
   "id": "e496b53caa0e3980"
  },
  {
   "metadata": {
    "ExecuteTime": {
     "end_time": "2025-10-28T13:26:32.232779Z",
     "start_time": "2025-10-28T13:26:32.205203Z"
    }
   },
   "cell_type": "code",
   "source": [
    "from sklearn.linear_model import LinearRegression\n",
    "from sklearn.model_selection import train_test_split\n",
    "from sklearn.metrics import mean_squared_error, r2_score\n",
    "import matplotlib.pyplot as plt\n",
    "\n",
    "# 2. Example real dataset (house size vs price)\n",
    "X = [[50], [60], [70], [80], [90], [100], [110], [120], [130], [140]]  # size in square meters\n",
    "y = [150, 180, 210, 240, 270, 300, 330, 360, 390, 420]                 # price in thousands\n",
    "\n",
    "X_train, X_test , y_train, y_test = train_test_split(X,y, test_size = 0.2,random_state = 42)\n",
    "model = LinearRegression()\n",
    "\n",
    "model.fit(X_train,y_train)\n",
    "\n",
    "y_pred = model.predict(X_test)\n",
    "\n",
    "print(f\"for input {X_test}: the model prediction is {y_pred}\")\n",
    "\n",
    "# graphically\n",
    "plt.scatter()\n",
    "\n",
    "\n",
    "\n"
   ],
   "id": "d7efe1aa1fb598af",
   "outputs": [],
   "execution_count": 21
  }
 ],
 "metadata": {
  "kernelspec": {
   "display_name": "Python 3",
   "language": "python",
   "name": "python3"
  },
  "language_info": {
   "codemirror_mode": {
    "name": "ipython",
    "version": 2
   },
   "file_extension": ".py",
   "mimetype": "text/x-python",
   "name": "python",
   "nbconvert_exporter": "python",
   "pygments_lexer": "ipython2",
   "version": "2.7.6"
  }
 },
 "nbformat": 4,
 "nbformat_minor": 5
}
